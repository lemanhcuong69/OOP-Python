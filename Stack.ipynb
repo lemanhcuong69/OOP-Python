{
 "cells": [
  {
   "cell_type": "code",
   "execution_count": 4,
   "id": "2d831bac",
   "metadata": {},
   "outputs": [],
   "source": [
    "class MyStack:\n",
    "    def __init__(self, capacity):\n",
    "        self.__stack = []\n",
    "        self.__capacity = capacity\n",
    "    \n",
    "    def is_empty(self):\n",
    "        return len(self.__stack) == 0\n",
    "    def is_full(self):\n",
    "        return len(self.__stack) == self.__capacity\n",
    "    def push(self, item):\n",
    "        if self.is_full():\n",
    "            print('Do nothing')\n",
    "        else:\n",
    "            self.__stack.append(item)\n",
    "    def pop(self):\n",
    "        if self.is_empty():\n",
    "            print('Do nothing')\n",
    "        else:\n",
    "            self.__stack.pop(-1)\n",
    "    def top(self):\n",
    "        if self.is_empty():\n",
    "            print(\"Stack empty!!!\")\n",
    "        else:\n",
    "            return self.__stack[-1]\n",
    "            \n",
    "            "
   ]
  },
  {
   "cell_type": "code",
   "execution_count": 8,
   "id": "51eba0c6",
   "metadata": {},
   "outputs": [
    {
     "name": "stdout",
     "output_type": "stream",
     "text": [
      "False\n",
      "1\n",
      "5\n"
     ]
    }
   ],
   "source": [
    "stack = MyStack(capacity=4)\n",
    "stack.push(4)\n",
    "stack.push(5)\n",
    "stack.push(1)\n",
    "print(stack.is_empty())\n",
    "print(stack.top())\n",
    "\n",
    "stack.pop()\n",
    "print(stack.top())\n"
   ]
  }
 ],
 "metadata": {
  "kernelspec": {
   "display_name": "Python 3",
   "language": "python",
   "name": "python3"
  },
  "language_info": {
   "codemirror_mode": {
    "name": "ipython",
    "version": 3
   },
   "file_extension": ".py",
   "mimetype": "text/x-python",
   "name": "python",
   "nbconvert_exporter": "python",
   "pygments_lexer": "ipython3",
   "version": "3.11.9"
  }
 },
 "nbformat": 4,
 "nbformat_minor": 5
}
