{
 "cells": [
  {
   "cell_type": "code",
   "execution_count": 6,
   "id": "1f9a04ba",
   "metadata": {},
   "outputs": [
    {
     "name": "stdout",
     "output_type": "stream",
     "text": [
      "Student: Name = Cuong, Yob = 2004, Grade = 10\n"
     ]
    }
   ],
   "source": [
    "from abc import ABC, abstractmethod\n",
    "\n",
    "class Person(ABC):\n",
    "    def __init__(self, name, yob):\n",
    "        self._name = name\n",
    "        self._yob = yob\n",
    "    \n",
    "    @abstractmethod\n",
    "    def describe(self):\n",
    "        pass\n",
    "    \n",
    "class Student(Person):\n",
    "    def __init__(self, name, yob, grade):\n",
    "        super().__init__(name = name, yob = yob)\n",
    "        self.__grade = grade\n",
    "    def describe(self):\n",
    "        print(f\"Student: Name = {self._name}, Yob = {self._yob}, Grade = {self.__grade}\")\n",
    "        \n",
    "student = Student(\"Cuong\", 2004, 10)\n",
    "student.describe()"
   ]
  },
  {
   "cell_type": "code",
   "execution_count": 4,
   "id": "01787de1",
   "metadata": {},
   "outputs": [
    {
     "name": "stdout",
     "output_type": "stream",
     "text": [
      "Doctor: Name = Thai, Yob = 1991, Specialist = Răng hàm mặt\n"
     ]
    }
   ],
   "source": [
    "class Doctor(Person):\n",
    "    def __init__(self, name, yob, specialist):\n",
    "        super().__init__(name = name, yob = yob)\n",
    "        self.__specialist = specialist\n",
    "    def describe(self):\n",
    "        print(f\"Doctor: Name = {self._name}, Yob = {self._yob}, Specialist = {self.__specialist}\")\n",
    "    \n",
    "    \n",
    "doctor = Doctor(\"Thai\", 1991, 'Răng hàm mặt')\n",
    "doctor.describe()    "
   ]
  },
  {
   "cell_type": "code",
   "execution_count": 5,
   "id": "e1281358",
   "metadata": {},
   "outputs": [
    {
     "name": "stdout",
     "output_type": "stream",
     "text": [
      "Teacher: Name = Cuong, Yob = 2004, Subject = OOP\n"
     ]
    }
   ],
   "source": [
    "class Teacher(Person):\n",
    "    def __init__(self, name, yob, subject):\n",
    "        super().__init__(name, yob)\n",
    "        self.__subject = subject\n",
    "    \n",
    "    def describe(self):\n",
    "        print(f\"Teacher: Name = {self._name}, Yob = {self._yob}, Subject = {self.__subject}\")\n",
    "    \n",
    "teacher = Teacher(\"Cuong\", 2004, \"OOP\")\n",
    "teacher.describe()"
   ]
  },
  {
   "cell_type": "code",
   "execution_count": 7,
   "id": "53e47bdf",
   "metadata": {},
   "outputs": [],
   "source": [
    "class Ward:\n",
    "    def __init__(self, name):\n",
    "        self.__name = name\n",
    "        self.__list_people = list()\n",
    "    \n",
    "    def add_person(self, person: Person):\n",
    "        self.__list_people.append(person)\n",
    "    \n",
    "    def describe(self):\n",
    "        print(f\"Ward: Name = {self.__name}\")\n",
    "        for p in self.__list_people:\n",
    "            p.describe()"
   ]
  },
  {
   "cell_type": "code",
   "execution_count": 10,
   "id": "c10e7fb6",
   "metadata": {},
   "outputs": [
    {
     "name": "stdout",
     "output_type": "stream",
     "text": [
      "Ward: Name = Ward1\n",
      "Student: Name = Cuong, Yob = 2004, Grade = 10\n"
     ]
    }
   ],
   "source": [
    "ward1 = Ward(\"Ward1\")\n",
    "ward1.add_person(student)\n",
    "ward1.describe()\n"
   ]
  },
  {
   "cell_type": "code",
   "execution_count": 11,
   "id": "87806130",
   "metadata": {},
   "outputs": [
    {
     "name": "stdout",
     "output_type": "stream",
     "text": [
      "Ward: Name = Ward1\n",
      "Student: Name = Cuong, Yob = 2004, Grade = 10\n",
      "Doctor: Name = Thai, Yob = 1991, Specialist = Răng hàm mặt\n"
     ]
    }
   ],
   "source": [
    "ward1.add_person(doctor)\n",
    "ward1.describe()"
   ]
  }
 ],
 "metadata": {
  "kernelspec": {
   "display_name": "Python 3",
   "language": "python",
   "name": "python3"
  },
  "language_info": {
   "codemirror_mode": {
    "name": "ipython",
    "version": 3
   },
   "file_extension": ".py",
   "mimetype": "text/x-python",
   "name": "python",
   "nbconvert_exporter": "python",
   "pygments_lexer": "ipython3",
   "version": "3.11.9"
  }
 },
 "nbformat": 4,
 "nbformat_minor": 5
}
