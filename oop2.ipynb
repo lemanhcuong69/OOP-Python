{
 "cells": [
  {
   "cell_type": "code",
   "execution_count": 168,
   "id": "1f9a04ba",
   "metadata": {},
   "outputs": [
    {
     "name": "stdout",
     "output_type": "stream",
     "text": [
      "Student: Name = Cuong, Yob = 2004, Grade = 10\n"
     ]
    }
   ],
   "source": [
    "from abc import ABC, abstractmethod\n",
    "\n",
    "class Person(ABC):\n",
    "    def __init__(self, name, yob):\n",
    "        self._name = name\n",
    "        self._yob = yob\n",
    "    \n",
    "    @abstractmethod\n",
    "    def describe(self):\n",
    "        pass\n",
    "    \n",
    "class Student(Person):\n",
    "    def __init__(self, name, yob, grade):\n",
    "        super().__init__(name = name, yob = yob)\n",
    "        self.__grade = grade\n",
    "    def describe(self):\n",
    "        print(f\"Student: Name = {self._name}, Yob = {self._yob}, Grade = {self.__grade}\")\n",
    "        \n",
    "student = Student(\"Cuong\", 2004, 10)\n",
    "student.describe()"
   ]
  },
  {
   "cell_type": "code",
   "execution_count": 169,
   "id": "01787de1",
   "metadata": {},
   "outputs": [
    {
     "name": "stdout",
     "output_type": "stream",
     "text": [
      "Doctor: Name = Thai, Yob = 1991, Specialist = Răng hàm mặt\n"
     ]
    }
   ],
   "source": [
    "class Doctor(Person):\n",
    "    def __init__(self, name, yob, specialist):\n",
    "        super().__init__(name = name, yob = yob)\n",
    "        self.__specialist = specialist\n",
    "    def describe(self):\n",
    "        print(f\"Doctor: Name = {self._name}, Yob = {self._yob}, Specialist = {self.__specialist}\")\n",
    "    \n",
    "    \n",
    "doctor = Doctor(\"Thai\", 1991, 'Răng hàm mặt')\n",
    "doctor.describe()    "
   ]
  },
  {
   "cell_type": "code",
   "execution_count": 170,
   "id": "e1281358",
   "metadata": {},
   "outputs": [
    {
     "name": "stdout",
     "output_type": "stream",
     "text": [
      "Teacher: Name = Cuong, Yob = 2004, Subject = OOP\n"
     ]
    }
   ],
   "source": [
    "class Teacher(Person):\n",
    "    def __init__(self, name, yob, subject):\n",
    "        super().__init__(name, yob)\n",
    "        self.__subject = subject\n",
    "    \n",
    "    def describe(self):\n",
    "        print(f\"Teacher: Name = {self._name}, Yob = {self._yob}, Subject = {self.__subject}\")\n",
    "    \n",
    "teacher = Teacher(\"Cuong\", 2004, \"OOP\")\n",
    "teacher.describe()"
   ]
  },
  {
   "cell_type": "code",
   "execution_count": 171,
   "id": "53e47bdf",
   "metadata": {},
   "outputs": [],
   "source": [
    "class Ward:\n",
    "    def __init__(self, name):\n",
    "        self.__name = name\n",
    "        self.__list_people = list()\n",
    "    \n",
    "    def add_person(self, person: Person):\n",
    "        self.__list_people.append(person)\n",
    "    \n",
    "    def describe(self):\n",
    "        print(f\"Ward: Name = {self.__name}\")\n",
    "        for p in self.__list_people:\n",
    "            p.describe()"
   ]
  },
  {
   "cell_type": "code",
   "execution_count": 172,
   "id": "c10e7fb6",
   "metadata": {},
   "outputs": [
    {
     "name": "stdout",
     "output_type": "stream",
     "text": [
      "Ward: Name = Ward1\n",
      "Student: Name = Cuong, Yob = 2004, Grade = 10\n"
     ]
    }
   ],
   "source": [
    "ward1 = Ward(\"Ward1\")\n",
    "ward1.add_person(student)\n",
    "ward1.describe()\n"
   ]
  },
  {
   "cell_type": "code",
   "execution_count": 173,
   "id": "87806130",
   "metadata": {},
   "outputs": [
    {
     "name": "stdout",
     "output_type": "stream",
     "text": [
      "Ward: Name = Ward1\n",
      "Student: Name = Cuong, Yob = 2004, Grade = 10\n",
      "Doctor: Name = Thai, Yob = 1991, Specialist = Răng hàm mặt\n"
     ]
    }
   ],
   "source": [
    "ward1.add_person(doctor)\n",
    "ward1.describe()"
   ]
  },
  {
   "cell_type": "code",
   "execution_count": 174,
   "id": "6dde6b13",
   "metadata": {},
   "outputs": [],
   "source": [
    "class Ward:\n",
    "    def __init__(self, name):\n",
    "        self.__name = name\n",
    "        self.__list_people = list()\n",
    "    \n",
    "    def add_person(self, person: Person):\n",
    "        self.__list_people.append(person)\n",
    "    \n",
    "    def describe(self):\n",
    "        print(f\"Ward: Name = {self.__name}\")\n",
    "        for p in self.__list_people:\n",
    "            p.describe()\n",
    "    def count_doctor(self):\n",
    "        counter = 0\n",
    "        for p in self.__list_people:\n",
    "            if isinstance(p, Doctor):\n",
    "                counter += 1\n",
    "        return counter\n"
   ]
  },
  {
   "cell_type": "code",
   "execution_count": 175,
   "id": "fbcfb176",
   "metadata": {},
   "outputs": [
    {
     "name": "stdout",
     "output_type": "stream",
     "text": [
      "True\n",
      "2\n"
     ]
    }
   ],
   "source": [
    "s1 = Student(\"Cuong\", 2004, 10)\n",
    "d1 = Doctor(\"Thai\", 1991, 'Răng hàm mặt')\n",
    "print(isinstance(d1, Doctor))\n",
    "d2 = Doctor(\"Tin\", 2004, \"Da lieu\")\n",
    "t1 = Teacher(\"Ha\", 1999, \"Toan\")\n",
    "\n",
    "w1 = Ward(\"Ward1\")\n",
    "w1.add_person(s1)\n",
    "w1.add_person(d1)\n",
    "w1.add_person(d2)\n",
    "w1.add_person(t1)\n",
    "\n",
    "print(w1.count_doctor())"
   ]
  },
  {
   "cell_type": "code",
   "execution_count": 176,
   "id": "7d9996fb",
   "metadata": {},
   "outputs": [],
   "source": [
    "class Person(ABC):\n",
    "    def __init__(self, name, yob):\n",
    "        self._name = name\n",
    "        self._yob = yob\n",
    "    \n",
    "    @abstractmethod\n",
    "    def describe(self):\n",
    "        pass\n",
    "    \n",
    "    def get_yob(self):\n",
    "        return self._yob"
   ]
  },
  {
   "cell_type": "code",
   "execution_count": 177,
   "id": "c807d79b",
   "metadata": {},
   "outputs": [],
   "source": [
    "class Student(Person):\n",
    "    def __init__(self, name, yob, grade):\n",
    "        super().__init__(name = name, yob = yob)\n",
    "        self.__grade = grade\n",
    "    def describe(self):\n",
    "        print(f\"Student: Name = {self._name}, Yob = {self._yob}, Grade = {self.__grade}\")"
   ]
  },
  {
   "cell_type": "code",
   "execution_count": 178,
   "id": "df3b6f2f",
   "metadata": {},
   "outputs": [
    {
     "name": "stdout",
     "output_type": "stream",
     "text": [
      "Doctor: Name = Thai, Yob = 1991, Specialist = Răng hàm mặt\n"
     ]
    }
   ],
   "source": [
    "class Doctor(Person):\n",
    "    def __init__(self, name, yob, specialist):\n",
    "        super().__init__(name = name, yob = yob)\n",
    "        self.__specialist = specialist\n",
    "    def describe(self):\n",
    "        print(f\"Doctor: Name = {self._name}, Yob = {self._yob}, Specialist = {self.__specialist}\")\n",
    "    \n",
    "    \n",
    "doctor = Doctor(\"Thai\", 1991, 'Răng hàm mặt')\n",
    "doctor.describe()    "
   ]
  },
  {
   "cell_type": "code",
   "execution_count": 179,
   "id": "a77396ae",
   "metadata": {},
   "outputs": [
    {
     "name": "stdout",
     "output_type": "stream",
     "text": [
      "Teacher: Name = Cuong, Yob = 2004, Subject = OOP\n"
     ]
    }
   ],
   "source": [
    "class Teacher(Person):\n",
    "    def __init__(self, name, yob, subject):\n",
    "        super().__init__(name, yob)\n",
    "        self.__subject = subject\n",
    "    \n",
    "    def describe(self):\n",
    "        print(f\"Teacher: Name = {self._name}, Yob = {self._yob}, Subject = {self.__subject}\")\n",
    "    \n",
    "teacher = Teacher(\"Cuong\", 2004, \"OOP\")\n",
    "teacher.describe()"
   ]
  },
  {
   "cell_type": "code",
   "execution_count": 180,
   "id": "f34693eb",
   "metadata": {},
   "outputs": [],
   "source": [
    "class Ward:\n",
    "    def __init__(self, name):\n",
    "        self.__name = name\n",
    "        self.__list_people = list()\n",
    "    \n",
    "    def add_person(self, person: Person):\n",
    "        self.__list_people.append(person)\n",
    "    \n",
    "    def describe(self):\n",
    "        print(f\"Ward: Name = {self.__name}\")\n",
    "        for p in self.__list_people:\n",
    "            p.describe()\n",
    "    def count_doctor(self):\n",
    "        counter = 0\n",
    "        for p in self.__list_people:\n",
    "            if isinstance(p, Doctor):\n",
    "                counter += 1\n",
    "        return counter\n",
    "\n",
    "    def sort_yob(self):\n",
    "        return self.__list_people.sort(key= lambda x: x.get_yob(), reverse=True)\n",
    "        \n",
    "    def compute_average(self):\n",
    "        total = 0\n",
    "        for p in self.__list_people:\n",
    "            total += p.get_yob()\n",
    "        return total/len(self.__list_people)\n",
    "    \n",
    "    def compute_average_teacher(self):\n",
    "        total = 0\n",
    "        counter = 0\n",
    "        for p in self.__list_people:\n",
    "            if isinstance(p, Teacher):\n",
    "                counter += 1\n",
    "                total += p.get_yob()\n",
    "        return total/counter"
   ]
  },
  {
   "cell_type": "code",
   "execution_count": 181,
   "id": "2b407116",
   "metadata": {},
   "outputs": [
    {
     "name": "stdout",
     "output_type": "stream",
     "text": [
      "True\n",
      "2\n",
      "Ward: Name = Ward1\n",
      "Student: Name = Cuong, Yob = 2004, Grade = 10\n",
      "Doctor: Name = Tin, Yob = 2004, Specialist = Da lieu\n",
      "Teacher: Name = Ha, Yob = 1999, Subject = Toan\n",
      "Doctor: Name = Thai, Yob = 1991, Specialist = Răng hàm mặt\n",
      "Teacher: Name = Chung, Yob = 1980, Subject = Tin\n"
     ]
    }
   ],
   "source": [
    "s1 = Student(\"Cuong\", 2004, 10)\n",
    "d1 = Doctor(\"Thai\", 1991, 'Răng hàm mặt')\n",
    "print(isinstance(d1, Doctor))\n",
    "d2 = Doctor(\"Tin\", 2004, \"Da lieu\")\n",
    "t1 = Teacher(\"Ha\", 1999, \"Toan\")\n",
    "t2 = Teacher(\"Chung\", 1980, \"Tin\")\n",
    "w1 = Ward(\"Ward1\")\n",
    "w1.add_person(s1)\n",
    "w1.add_person(d1)\n",
    "w1.add_person(d2)\n",
    "w1.add_person(t1)\n",
    "w1.add_person(t2)\n",
    "\n",
    "print(w1.count_doctor())\n",
    "w1.sort_yob()\n",
    "w1.describe()"
   ]
  },
  {
   "cell_type": "code",
   "execution_count": 182,
   "id": "03688011",
   "metadata": {},
   "outputs": [
    {
     "name": "stdout",
     "output_type": "stream",
     "text": [
      "1995.6\n"
     ]
    }
   ],
   "source": [
    "print(w1.compute_average())"
   ]
  },
  {
   "cell_type": "code",
   "execution_count": 183,
   "id": "9ffa65e3",
   "metadata": {},
   "outputs": [
    {
     "name": "stdout",
     "output_type": "stream",
     "text": [
      "1989.5\n"
     ]
    }
   ],
   "source": [
    "print(w1.compute_average_teacher())"
   ]
  }
 ],
 "metadata": {
  "kernelspec": {
   "display_name": "Python 3",
   "language": "python",
   "name": "python3"
  },
  "language_info": {
   "codemirror_mode": {
    "name": "ipython",
    "version": 3
   },
   "file_extension": ".py",
   "mimetype": "text/x-python",
   "name": "python",
   "nbconvert_exporter": "python",
   "pygments_lexer": "ipython3",
   "version": "3.11.9"
  }
 },
 "nbformat": 4,
 "nbformat_minor": 5
}
